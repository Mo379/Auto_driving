{
 "cells": [
  {
   "cell_type": "code",
   "execution_count": 2,
   "id": "e81ec912",
   "metadata": {},
   "outputs": [],
   "source": [
    "import wandb\n",
    "import pickle\n",
    "import time\n",
    "from src.datahandle import *\n",
    "import time"
   ]
  },
  {
   "cell_type": "code",
   "execution_count": 4,
   "id": "b5713f77",
   "metadata": {},
   "outputs": [],
   "source": [
    "#hyper\n",
    "directory = '../../extras/data/A_training_given/training_data/'\n",
    "training_folder = 'training_data'\n",
    "training_labels_file= 'training_norm.csv'\n",
    "#\n",
    "collected_directory = '../../extras/data/Z_collected_raw/' \n",
    "#\n",
    "quiz_directory = '../../extras/data/C_testing_given/test_data/'\n",
    "quiz_training_folder = 'test_data'\n",
    "#configurations\n",
    "conf_tracking = 0\n",
    "seed = 0\n",
    "data_shape = 'original'\n",
    "parameter_init_scale = 0.01\n",
    "split= 0.8\n",
    "batch_size = 64\n",
    "n_epochs = 5\n",
    "lr = 0.0001"
   ]
  },
  {
   "cell_type": "code",
   "execution_count": 46,
   "id": "8112d9a1",
   "metadata": {},
   "outputs": [],
   "source": [
    "#dataloading object\n",
    "training_object= DataLoader(\n",
    "        directory,\n",
    "        training_folder,\n",
    "        training_labels_file\n",
    "        )\n",
    "collected_object = DataLoader(\n",
    "        collected_directory        \n",
    "        )\n",
    "collected_train, collected_test = collected_object.LoadCollectedData_info(\n",
    "        split=split,\n",
    "        batch_size=1 #for tf this batch size remains as 1\n",
    "        )\n",
    "#train test split\n",
    "train,test = training_object.LoadModelData_info(\n",
    "        split = split, \n",
    "        batch_size =1)#for tf this batch size remains as 1\n",
    "train_stack = np.vstack((train,collected_train))\n",
    "test_stack= np.vstack((test[0],collected_test[0]))\n",
    "example_batch_x,example_batch_y = training_object.Load_batch(train[0], data_shape=data_shape)\n"
   ]
  },
  {
   "cell_type": "code",
   "execution_count": 117,
   "id": "c61b9a81",
   "metadata": {},
   "outputs": [],
   "source": [
    "loaded_train_X,loaded_train_Y = training_object.Load_batch(train_stack.reshape(-1,4)[0:1000],data_shape=data_shape)"
   ]
  },
  {
   "cell_type": "code",
   "execution_count": 118,
   "id": "da767356",
   "metadata": {},
   "outputs": [],
   "source": [
    "loaded_test_X,loaded_test_Y = training_object.Load_batch(test_stack[0:100],data_shape=data_shape)"
   ]
  },
  {
   "cell_type": "code",
   "execution_count": 119,
   "id": "30e61e65",
   "metadata": {},
   "outputs": [
    {
     "data": {
      "text/plain": [
       "((1000, 240, 320, 3), (1000, 2))"
      ]
     },
     "execution_count": 119,
     "metadata": {},
     "output_type": "execute_result"
    }
   ],
   "source": [
    "loaded_train_X.shape ,loaded_train_Y.shape"
   ]
  },
  {
   "cell_type": "code",
   "execution_count": 120,
   "id": "44ffc0f6",
   "metadata": {},
   "outputs": [
    {
     "data": {
      "text/plain": [
       "(240, 320, 3)"
      ]
     },
     "execution_count": 120,
     "metadata": {},
     "output_type": "execute_result"
    }
   ],
   "source": [
    "image_shape = loaded_train_X[0].shape\n",
    "image_shape"
   ]
  },
  {
   "cell_type": "code",
   "execution_count": 125,
   "id": "6feed790",
   "metadata": {},
   "outputs": [],
   "source": [
    "#model initialisation\n",
    "data_augmentation = keras.Sequential(\n",
    "  [\n",
    "        layers.experimental.preprocessing.RandomRotation(0.2),\n",
    "        layers.experimental.preprocessing.RandomZoom(0.2),\n",
    "        #layers.experimental.preprocessing.RandomContrast(0.2),\n",
    "        tf.keras.layers.RandomContrast(0.2),\n",
    "  ]\n",
    ")\n",
    "model = keras.Sequential(\n",
    "    [\n",
    "        keras.Input(shape=(240, 320, 3)),\n",
    "        data_augmentation,\n",
    "        layers.Conv2D(32, 5, strides=2, activation=\"relu\"),\n",
    "        data_augmentation,\n",
    "        layers.Conv2D(16, 3, padding='same', activation='relu'),\n",
    "        layers.MaxPooling2D(),\n",
    "        layers.Conv2D(32, 3, padding='same', activation='relu'),\n",
    "        layers.MaxPooling2D(),\n",
    "        layers.Conv2D(64, 3, padding='same', activation='relu'),\n",
    "        layers.MaxPooling2D(),\n",
    "        layers.Dropout(0.2),\n",
    "        layers.Flatten(),\n",
    "        layers.Dense(128, activation='relu'),\n",
    "        layers.Dense(2)\n",
    "    ]\n",
    ")"
   ]
  },
  {
   "cell_type": "code",
   "execution_count": 126,
   "id": "585867fd",
   "metadata": {},
   "outputs": [],
   "source": [
    "model.compile(optimizer='adam',\n",
    "              loss=tf.keras.losses.MeanSquaredError(),\n",
    "              metrics=['accuracy'])"
   ]
  },
  {
   "cell_type": "code",
   "execution_count": null,
   "id": "e5801a9c",
   "metadata": {},
   "outputs": [
    {
     "name": "stdout",
     "output_type": "stream",
     "text": [
      "Epoch 1/10\n",
      "32/32 [==============================] - 88s 3s/step - loss: 0.1761 - accuracy: 0.6430\n",
      "Epoch 2/10\n",
      "32/32 [==============================] - 109s 3s/step - loss: 0.1102 - accuracy: 0.7620\n",
      "Epoch 3/10\n",
      "32/32 [==============================] - 76s 2s/step - loss: 0.1084 - accuracy: 0.7470\n",
      "Epoch 4/10\n",
      "25/32 [======================>.......] - ETA: 16s - loss: 0.1109 - accuracy: 0.7638"
     ]
    }
   ],
   "source": [
    "model.fit(loaded_train_X,loaded_train_Y, epochs=10)    "
   ]
  },
  {
   "cell_type": "code",
   "execution_count": null,
   "id": "42a32bab",
   "metadata": {},
   "outputs": [],
   "source": [
    "model.evaluate(loaded_test_X,loaded_test_Y)"
   ]
  },
  {
   "cell_type": "code",
   "execution_count": null,
   "id": "fec70e46",
   "metadata": {},
   "outputs": [],
   "source": []
  }
 ],
 "metadata": {
  "kernelspec": {
   "display_name": "mlis_car",
   "language": "python",
   "name": "mlis_car"
  },
  "language_info": {
   "codemirror_mode": {
    "name": "ipython",
    "version": 3
   },
   "file_extension": ".py",
   "mimetype": "text/x-python",
   "name": "python",
   "nbconvert_exporter": "python",
   "pygments_lexer": "ipython3",
   "version": "3.9.10"
  }
 },
 "nbformat": 4,
 "nbformat_minor": 5
}
