{
 "cells": [
  {
   "cell_type": "markdown",
   "id": "ad417aee",
   "metadata": {},
   "source": [
    "# Importing pakages"
   ]
  },
  {
   "cell_type": "code",
   "execution_count": 1,
   "id": "e81ec912",
   "metadata": {},
   "outputs": [],
   "source": [
    "import wandb\n",
    "import pickle\n",
    "import time\n",
    "from src.datahandle import *\n",
    "import time"
   ]
  },
  {
   "cell_type": "markdown",
   "id": "e1cffa89",
   "metadata": {},
   "source": [
    "# Setting up hyperparams"
   ]
  },
  {
   "cell_type": "code",
   "execution_count": 2,
   "id": "b5713f77",
   "metadata": {},
   "outputs": [],
   "source": [
    "#hyper\n",
    "directory = '../../extras/data/A_training_given/training_data/'\n",
    "training_folder = 'training_data'\n",
    "training_labels_file= 'training_norm.csv'\n",
    "#\n",
    "collected_directory = '../../extras/data/Z_collected_raw/' \n",
    "#\n",
    "quiz_directory = '../../extras/data/C_testing_given/test_data/'\n",
    "quiz_training_folder = 'test_data'\n",
    "#configurations\n",
    "conf_tracking = 1\n",
    "seed = 0\n",
    "data_shape = 'original'\n",
    "parameter_init_scale = 0.01\n",
    "split= 0.8\n",
    "batch_size = 128\n",
    "n_epochs = 5\n",
    "lr = 0.0001"
   ]
  },
  {
   "cell_type": "markdown",
   "id": "3b297e6b",
   "metadata": {},
   "source": [
    "# Setting up DataLoaders"
   ]
  },
  {
   "cell_type": "code",
   "execution_count": 3,
   "id": "8112d9a1",
   "metadata": {},
   "outputs": [],
   "source": [
    "#dataloading object\n",
    "training_object= DataLoader(\n",
    "        directory,\n",
    "        training_folder,\n",
    "        training_labels_file\n",
    "        )\n",
    "collected_object = DataLoader(\n",
    "        collected_directory        \n",
    "        )"
   ]
  },
  {
   "cell_type": "markdown",
   "id": "b7ee6f57",
   "metadata": {},
   "source": [
    "# Loading data information (not loading images yet)"
   ]
  },
  {
   "cell_type": "code",
   "execution_count": 4,
   "id": "a4f0219e",
   "metadata": {},
   "outputs": [],
   "source": [
    "collected_train, collected_test = collected_object.LoadCollectedData_info(\n",
    "        split=split,\n",
    "        batch_size=batch_size #for tf this batch size remains as 1\n",
    "        )\n",
    "#train test split\n",
    "train,test = training_object.LoadModelData_info(\n",
    "        split = split, \n",
    "        batch_size =batch_size)#for tf this batch size remains as 1"
   ]
  },
  {
   "cell_type": "markdown",
   "id": "8016749e",
   "metadata": {},
   "source": [
    "# Stacking collected and kaggle given data"
   ]
  },
  {
   "cell_type": "code",
   "execution_count": 5,
   "id": "b5b7b5e9",
   "metadata": {},
   "outputs": [],
   "source": [
    "train_XY = np.vstack((train,collected_train))\n",
    "test_XY= np.vstack((test[0],collected_test[0]))"
   ]
  },
  {
   "cell_type": "markdown",
   "id": "4f77456a",
   "metadata": {},
   "source": [
    "# Checking DataLoading functionality "
   ]
  },
  {
   "cell_type": "code",
   "execution_count": 9,
   "id": "033ea7be",
   "metadata": {},
   "outputs": [
    {
     "data": {
      "text/plain": [
       "(240, 320, 3)"
      ]
     },
     "execution_count": 9,
     "metadata": {},
     "output_type": "execute_result"
    }
   ],
   "source": [
    "for i in range(1):\n",
    "    X,Y = training_object.Load_batch(train_XY[i], data_shape=data_shape)\n",
    "image_shape = X.shape[1:]\n",
    "image_shape"
   ]
  },
  {
   "cell_type": "markdown",
   "id": "34f0d6c8",
   "metadata": {},
   "source": [
    "# Setting up data augmentation"
   ]
  },
  {
   "cell_type": "code",
   "execution_count": 10,
   "id": "453a83c8",
   "metadata": {},
   "outputs": [],
   "source": [
    "data_augmentation = keras.Sequential(\n",
    "  [\n",
    "        layers.experimental.preprocessing.RandomRotation(0.2),\n",
    "        layers.experimental.preprocessing.RandomZoom(0.2),\n",
    "        #layers.experimental.preprocessing.RandomContrast(0.2),\n",
    "  ]\n",
    ")"
   ]
  },
  {
   "cell_type": "markdown",
   "id": "b47f7c26",
   "metadata": {},
   "source": [
    "# Initialising the model"
   ]
  },
  {
   "cell_type": "code",
   "execution_count": 11,
   "id": "6feed790",
   "metadata": {},
   "outputs": [],
   "source": [
    "#model initialisation\n",
    "model = keras.Sequential(\n",
    "    [\n",
    "        keras.Input(shape=image_shape),\n",
    "        data_augmentation,\n",
    "        layers.Conv2D(32, 5, strides=2, activation=\"relu\"),\n",
    "        data_augmentation,\n",
    "        layers.Conv2D(16, 3, padding='same', activation='relu'),\n",
    "        layers.MaxPooling2D(),\n",
    "        layers.Conv2D(32, 3, padding='same', activation='relu'),\n",
    "        layers.MaxPooling2D(),\n",
    "        layers.Conv2D(64, 3, padding='same', activation='relu'),\n",
    "        layers.MaxPooling2D(),\n",
    "        layers.Dropout(0.2),\n",
    "        layers.Flatten(),\n",
    "        layers.Dense(128, activation='relu'),\n",
    "        layers.Dense(2)\n",
    "    ]\n",
    ")\n",
    "model.compile(optimizer='adam',\n",
    "              loss=tf.keras.losses.MeanSquaredError(),\n",
    "              metrics=['accuracy'])"
   ]
  },
  {
   "cell_type": "code",
   "execution_count": 15,
   "id": "38f2c539",
   "metadata": {},
   "outputs": [
    {
     "data": {
      "text/plain": [
       "[<keras.engine.sequential.Sequential at 0x15aaf8a90>,\n",
       " <keras.layers.convolutional.Conv2D at 0x15b06cdf0>,\n",
       " <keras.layers.convolutional.Conv2D at 0x15b06c970>,\n",
       " <keras.layers.pooling.MaxPooling2D at 0x15b06cca0>,\n",
       " <keras.layers.convolutional.Conv2D at 0x15aad04c0>,\n",
       " <keras.layers.pooling.MaxPooling2D at 0x15af57c70>,\n",
       " <keras.layers.convolutional.Conv2D at 0x15aad0910>,\n",
       " <keras.layers.pooling.MaxPooling2D at 0x15aad0e50>,\n",
       " <keras.layers.core.dropout.Dropout at 0x15aad07f0>,\n",
       " <keras.layers.core.flatten.Flatten at 0x15aadaf40>,\n",
       " <keras.layers.core.dense.Dense at 0x15aafa4c0>,\n",
       " <keras.layers.core.dense.Dense at 0x15ab04910>]"
      ]
     },
     "execution_count": 15,
     "metadata": {},
     "output_type": "execute_result"
    }
   ],
   "source": [
    "model.layers"
   ]
  },
  {
   "cell_type": "markdown",
   "id": "c9de7fd5",
   "metadata": {},
   "source": [
    "# Weights and Biases configuration"
   ]
  },
  {
   "cell_type": "code",
   "execution_count": 16,
   "id": "6be93b54",
   "metadata": {},
   "outputs": [
    {
     "name": "stderr",
     "output_type": "stream",
     "text": [
      "\u001b[34m\u001b[1mwandb\u001b[0m: Currently logged in as: \u001b[33mmo379\u001b[0m (use `wandb login --relogin` to force relogin)\n"
     ]
    },
    {
     "data": {
      "text/html": [
       "wandb version 0.12.14 is available!  To upgrade, please run:\n",
       " $ pip install wandb --upgrade"
      ],
      "text/plain": [
       "<IPython.core.display.HTML object>"
      ]
     },
     "metadata": {},
     "output_type": "display_data"
    },
    {
     "data": {
      "text/html": [
       "Tracking run with wandb version 0.12.11"
      ],
      "text/plain": [
       "<IPython.core.display.HTML object>"
      ]
     },
     "metadata": {},
     "output_type": "display_data"
    },
    {
     "data": {
      "text/html": [
       "Run data is saved locally in <code>/Users/M/Desktop/Uni_MLIS_car/APP/Tensorflow_cnn/wandb/run-20220414_124822-359rajst</code>"
      ],
      "text/plain": [
       "<IPython.core.display.HTML object>"
      ]
     },
     "metadata": {},
     "output_type": "display_data"
    },
    {
     "data": {
      "text/html": [
       "Syncing run <strong><a href=\"https://wandb.ai/mo379/Autonomous-driving/runs/359rajst\" target=\"_blank\">polished-fire-133</a></strong> to <a href=\"https://wandb.ai/mo379/Autonomous-driving\" target=\"_blank\">Weights & Biases</a> (<a href=\"https://wandb.me/run\" target=\"_blank\">docs</a>)<br/>"
      ],
      "text/plain": [
       "<IPython.core.display.HTML object>"
      ]
     },
     "metadata": {},
     "output_type": "display_data"
    }
   ],
   "source": [
    "#wandb tracking\n",
    "if conf_tracking:\n",
    "   config = {\n",
    "     \"model_type\" : 'Same convnet as submission 2 ,leaky relu, collected, data augmentation, dropoutlayer',\n",
    "     \"param_initialisation_scale\" : parameter_init_scale,\n",
    "     \"model_shape\" : model.layers,\n",
    "     \"learning_rate\": lr,\n",
    "     \"data_split\": split,\n",
    "     \"batch_size\": batch_size,\n",
    "     \"data_shape\" : str(data_shape),\n",
    "     \"epochs\": n_epochs,\n",
    "   }\n",
    "   wandb.init(project=\"Autonomous-driving\", entity=\"mo379\",config=config)"
   ]
  },
  {
   "cell_type": "markdown",
   "id": "4bfe424f",
   "metadata": {},
   "source": [
    "# Training Loop (With wandb logging)"
   ]
  },
  {
   "cell_type": "code",
   "execution_count": null,
   "id": "9ec08a8c",
   "metadata": {},
   "outputs": [],
   "source": [
    "model_path = 'pkls/tf_cnn_augmented.pkl'\n",
    "#model = tf.keras.models.load_model(model_path, custom_objects=None, compile=True, options=None)\n",
    "test_batches = test_XY[0:2930].reshape(10,-1,4)\n",
    "for _ in range(n_epochs):\n",
    "    for i in range(3):\n",
    "        X,Y = training_object.Load_batch(train_XY[i], data_shape=data_shape)\n",
    "        train_metrics = model.train_on_batch(X,Y, return_dict=True) \n",
    "\n",
    "        X,Y = training_object.Load_batch(test_batches[np.random.randint(0,9)], data_shape=data_shape)\n",
    "        test_metrics = model.test_on_batch(\n",
    "            X, Y, sample_weight=None, reset_metrics=True, return_dict=True\n",
    "        )\n",
    "        \n",
    "        if conf_tracking==1:\n",
    "            wandb.log({\"test_loss\": test_metrics['loss']})\n",
    "            wandb.log({\"batch_loss\": train_metrics['loss']})\n",
    "\n",
    "            wandb.log({\"test_accuracy\": test_metrics['accuracy']})\n",
    "            wandb.log({\"batch_accuracy\": train_metrics['accuracy']})\n",
    "#tf.keras.models.save_model(\n",
    "#    model,\n",
    "#    model_path,\n",
    "#    overwrite=False,\n",
    "#    include_optimizer=True,\n",
    "#    save_format=None,\n",
    "#    signatures=None,\n",
    "#    options=None,\n",
    "#    save_traces=True\n",
    "#)"
   ]
  },
  {
   "cell_type": "markdown",
   "id": "9def0ecb",
   "metadata": {},
   "source": [
    "# Loading the Quiz data"
   ]
  },
  {
   "cell_type": "code",
   "execution_count": null,
   "id": "2e8e7c1a",
   "metadata": {},
   "outputs": [],
   "source": [
    "quiz_object= DataLoader(\n",
    "    quiz_directory,\n",
    "    quiz_training_folder,\n",
    ")\n",
    "quiz_train = quiz_object.LoadQuizData_info()\n",
    "X,image_order = quiz_object.Load_batch_quiz(quiz_train,data_shape=data_shape)"
   ]
  },
  {
   "cell_type": "markdown",
   "id": "a4ab7204",
   "metadata": {},
   "source": [
    "# Making predictions"
   ]
  },
  {
   "cell_type": "code",
   "execution_count": 13,
   "id": "fb4a41ee",
   "metadata": {},
   "outputs": [
    {
     "ename": "NameError",
     "evalue": "name 'image_order' is not defined",
     "output_type": "error",
     "traceback": [
      "\u001b[0;31m---------------------------------------------------------------------------\u001b[0m",
      "\u001b[0;31mNameError\u001b[0m                                 Traceback (most recent call last)",
      "Input \u001b[0;32mIn [13]\u001b[0m, in \u001b[0;36m<cell line: 2>\u001b[0;34m()\u001b[0m\n\u001b[1;32m      1\u001b[0m prds \u001b[38;5;241m=\u001b[39m model\u001b[38;5;241m.\u001b[39mpredict(X)\n\u001b[0;32m----> 2\u001b[0m final_prd \u001b[38;5;241m=\u001b[39m np\u001b[38;5;241m.\u001b[39mcolumn_stack((\u001b[43mimage_order\u001b[49m,prds))\n\u001b[1;32m      3\u001b[0m final_ordered \u001b[38;5;241m=\u001b[39m final_prd[final_prd[:, \u001b[38;5;241m0\u001b[39m]\u001b[38;5;241m.\u001b[39margsort()]\n\u001b[1;32m      4\u001b[0m df \u001b[38;5;241m=\u001b[39m pd\u001b[38;5;241m.\u001b[39mDataFrame(final_ordered, columns \u001b[38;5;241m=\u001b[39m [\u001b[38;5;124m'\u001b[39m\u001b[38;5;124mimage_id\u001b[39m\u001b[38;5;124m'\u001b[39m,\u001b[38;5;124m'\u001b[39m\u001b[38;5;124mangle\u001b[39m\u001b[38;5;124m'\u001b[39m,\u001b[38;5;124m'\u001b[39m\u001b[38;5;124mspeed\u001b[39m\u001b[38;5;124m'\u001b[39m])\n",
      "\u001b[0;31mNameError\u001b[0m: name 'image_order' is not defined"
     ]
    }
   ],
   "source": [
    "prds = model.predict(X)\n",
    "final_prd = np.column_stack((image_order,prds))\n",
    "final_ordered = final_prd[final_prd[:, 0].argsort()]\n",
    "df = pd.DataFrame(final_ordered, columns = ['image_id','angle','speed'])\n",
    "df = df.astype({'image_id': 'int32'})\n",
    "df.to_csv('submission.csv', index=False,)"
   ]
  },
  {
   "cell_type": "code",
   "execution_count": null,
   "id": "a0b7d1a2",
   "metadata": {},
   "outputs": [],
   "source": []
  }
 ],
 "metadata": {
  "kernelspec": {
   "display_name": "mlis_car",
   "language": "python",
   "name": "mlis_car"
  },
  "language_info": {
   "codemirror_mode": {
    "name": "ipython",
    "version": 3
   },
   "file_extension": ".py",
   "mimetype": "text/x-python",
   "name": "python",
   "nbconvert_exporter": "python",
   "pygments_lexer": "ipython3",
   "version": "3.9.10"
  }
 },
 "nbformat": 4,
 "nbformat_minor": 5
}
