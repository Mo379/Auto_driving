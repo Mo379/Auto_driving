{
 "cells": [
  {
   "cell_type": "code",
   "execution_count": 1,
   "id": "a09a7a92",
   "metadata": {},
   "outputs": [],
   "source": [
    "import wandb\n",
    "import pickle\n",
    "import time\n",
    "from src.datahandle import DataLoader\n",
    "from src.model_mlp import *\n",
    "#hyper\n",
    "split= 0.8\n",
    "batch_size = 32\n",
    "data_shape = (-1)\n",
    "\n",
    "directory = '/Users/M/Desktop/Uni_MLIS_car/extras/data/A_training_given/training_data/'\n",
    "training_folder = 'training_data'\n",
    "training_labels_file= 'training_norm.csv'"
   ]
  },
  {
   "cell_type": "code",
   "execution_count": 2,
   "id": "969e2c34",
   "metadata": {},
   "outputs": [],
   "source": [
    "training_object= DataLoader(\n",
    "        directory,\n",
    "        training_folder,\n",
    "        training_labels_file\n",
    "        )\n",
    "#train test split\n",
    "train,test = training_object.LoadModelData_info(\n",
    "        split = split, \n",
    "        batch_size = batch_size)\n"
   ]
  },
  {
   "cell_type": "code",
   "execution_count": 3,
   "id": "c2f3f8a2",
   "metadata": {},
   "outputs": [
    {
     "name": "stderr",
     "output_type": "stream",
     "text": [
      "WARNING:absl:No GPU/TPU found, falling back to CPU. (Set TF_CPP_MIN_LOG_LEVEL=0 and rerun for more info.)\n"
     ]
    }
   ],
   "source": [
    "X,Y = training_object.Load_batch(test[0], data_shape=data_shape)\n",
    "X = jnp.array(X, dtype=jnp.float32)\n",
    "Y = jnp.array(Y, dtype=jnp.float32)\n",
    "params = pickle.load(open('model_pkl', 'rb'))\n"
   ]
  },
  {
   "cell_type": "code",
   "execution_count": 4,
   "id": "de6ad223",
   "metadata": {},
   "outputs": [],
   "source": [
    "loss = loss_fn(params,X,Y)"
   ]
  },
  {
   "cell_type": "code",
   "execution_count": 5,
   "id": "ed9177e8",
   "metadata": {},
   "outputs": [
    {
     "data": {
      "text/plain": [
       "DeviceArray(0.1315821, dtype=float32)"
      ]
     },
     "execution_count": 5,
     "metadata": {},
     "output_type": "execute_result"
    }
   ],
   "source": [
    "loss"
   ]
  },
  {
   "cell_type": "code",
   "execution_count": null,
   "id": "25813a17",
   "metadata": {},
   "outputs": [],
   "source": []
  },
  {
   "cell_type": "code",
   "execution_count": 48,
   "id": "eccc6919",
   "metadata": {},
   "outputs": [],
   "source": [
    "from PIL import Image\n",
    "from numpy import asarray\n",
    "def Load_batch_quiz(batch, data_shape=(-1,1)):\n",
    "    X = []\n",
    "    Image_order = []\n",
    "    for instance in batch:\n",
    "        link = instance[0]\n",
    "        image = Image.open(link)\n",
    "        data = asarray(image)\n",
    "        if data.shape[2] == 4:\n",
    "            data = data[:,:,:-1]\n",
    "        if data_shape != 'original':\n",
    "            data = data.reshape(data_shape)\n",
    "        image_number = instance[1]\n",
    "        X.append(data)\n",
    "        Image_order.append(image_number)\n",
    "    X = np.array(X)\n",
    "    Image_order = np.array(Image_order)\n",
    "    return X,Image_order"
   ]
  },
  {
   "cell_type": "code",
   "execution_count": 49,
   "id": "92f92664",
   "metadata": {},
   "outputs": [],
   "source": [
    "quiz_directory = '/Users/M/Desktop/Uni_MLIS_car/extras/data/C_testing_given/test_data/'\n",
    "quiz_training_folder = 'test_data'\n",
    "quiz_object= DataLoader(\n",
    "        quiz_directory,\n",
    "        quiz_training_folder,\n",
    "        )\n",
    "quiz_train = quiz_object.LoadQuizData_info()"
   ]
  },
  {
   "cell_type": "code",
   "execution_count": 56,
   "id": "403e4cb7",
   "metadata": {},
   "outputs": [],
   "source": [
    "X,image_order = Load_batch_quiz(quiz_train, data_shape=data_shape)"
   ]
  },
  {
   "cell_type": "code",
   "execution_count": 64,
   "id": "a3faec9d",
   "metadata": {},
   "outputs": [],
   "source": [
    "prds = np.array(batch_forward(params,X))"
   ]
  },
  {
   "cell_type": "code",
   "execution_count": 69,
   "id": "84fde603",
   "metadata": {},
   "outputs": [
    {
     "data": {
      "text/plain": [
       "((1020, 2), (1020,))"
      ]
     },
     "execution_count": 69,
     "metadata": {},
     "output_type": "execute_result"
    }
   ],
   "source": [
    "prds.shape,image_order.shape"
   ]
  },
  {
   "cell_type": "code",
   "execution_count": 76,
   "id": "2f657e58",
   "metadata": {},
   "outputs": [],
   "source": [
    "final_prd = np.column_stack((image_order,prds))"
   ]
  },
  {
   "cell_type": "code",
   "execution_count": 78,
   "id": "305b014f",
   "metadata": {},
   "outputs": [
    {
     "data": {
      "text/plain": [
       "(array([348, 412, 374, ..., 345, 351, 437]),\n",
       " array([[0.6347348 , 1.28491   ],\n",
       "        [0.5784427 , 0.58104503],\n",
       "        [0.60994077, 0.97673213],\n",
       "        ...,\n",
       "        [0.58873916, 0.7157146 ],\n",
       "        [0.60299397, 0.29155037],\n",
       "        [0.6174    , 1.069447  ]], dtype=float32),\n",
       " array([[3.48000000e+02, 6.34734809e-01, 1.28490996e+00],\n",
       "        [4.12000000e+02, 5.78442693e-01, 5.81045032e-01],\n",
       "        [3.74000000e+02, 6.09940767e-01, 9.76732135e-01],\n",
       "        ...,\n",
       "        [3.45000000e+02, 5.88739157e-01, 7.15714574e-01],\n",
       "        [3.51000000e+02, 6.02993965e-01, 2.91550368e-01],\n",
       "        [4.37000000e+02, 6.17399991e-01, 1.06944704e+00]]))"
      ]
     },
     "execution_count": 78,
     "metadata": {},
     "output_type": "execute_result"
    }
   ],
   "source": [
    "image_order,prds,final_prd"
   ]
  },
  {
   "cell_type": "code",
   "execution_count": 121,
   "id": "808e7600",
   "metadata": {},
   "outputs": [
    {
     "data": {
      "text/html": [
       "<div>\n",
       "<style scoped>\n",
       "    .dataframe tbody tr th:only-of-type {\n",
       "        vertical-align: middle;\n",
       "    }\n",
       "\n",
       "    .dataframe tbody tr th {\n",
       "        vertical-align: top;\n",
       "    }\n",
       "\n",
       "    .dataframe thead th {\n",
       "        text-align: right;\n",
       "    }\n",
       "</style>\n",
       "<table border=\"1\" class=\"dataframe\">\n",
       "  <thead>\n",
       "    <tr style=\"text-align: right;\">\n",
       "      <th></th>\n",
       "      <th>image_id</th>\n",
       "      <th>angle</th>\n",
       "      <th>speed</th>\n",
       "    </tr>\n",
       "  </thead>\n",
       "  <tbody>\n",
       "    <tr>\n",
       "      <th>0</th>\n",
       "      <td>1</td>\n",
       "      <td>0.578331</td>\n",
       "      <td>0.582704</td>\n",
       "    </tr>\n",
       "    <tr>\n",
       "      <th>1</th>\n",
       "      <td>2</td>\n",
       "      <td>0.607713</td>\n",
       "      <td>0.949040</td>\n",
       "    </tr>\n",
       "    <tr>\n",
       "      <th>2</th>\n",
       "      <td>3</td>\n",
       "      <td>0.621875</td>\n",
       "      <td>1.125068</td>\n",
       "    </tr>\n",
       "    <tr>\n",
       "      <th>3</th>\n",
       "      <td>4</td>\n",
       "      <td>0.590089</td>\n",
       "      <td>0.730836</td>\n",
       "    </tr>\n",
       "    <tr>\n",
       "      <th>4</th>\n",
       "      <td>5</td>\n",
       "      <td>0.608614</td>\n",
       "      <td>0.960247</td>\n",
       "    </tr>\n",
       "    <tr>\n",
       "      <th>...</th>\n",
       "      <td>...</td>\n",
       "      <td>...</td>\n",
       "      <td>...</td>\n",
       "    </tr>\n",
       "    <tr>\n",
       "      <th>1015</th>\n",
       "      <td>1016</td>\n",
       "      <td>0.617811</td>\n",
       "      <td>1.074555</td>\n",
       "    </tr>\n",
       "    <tr>\n",
       "      <th>1016</th>\n",
       "      <td>1017</td>\n",
       "      <td>0.589033</td>\n",
       "      <td>0.718940</td>\n",
       "    </tr>\n",
       "    <tr>\n",
       "      <th>1017</th>\n",
       "      <td>1018</td>\n",
       "      <td>0.613803</td>\n",
       "      <td>1.024733</td>\n",
       "    </tr>\n",
       "    <tr>\n",
       "      <th>1018</th>\n",
       "      <td>1019</td>\n",
       "      <td>0.602490</td>\n",
       "      <td>0.884124</td>\n",
       "    </tr>\n",
       "    <tr>\n",
       "      <th>1019</th>\n",
       "      <td>1020</td>\n",
       "      <td>0.609686</td>\n",
       "      <td>0.973571</td>\n",
       "    </tr>\n",
       "  </tbody>\n",
       "</table>\n",
       "<p>1020 rows × 3 columns</p>\n",
       "</div>"
      ],
      "text/plain": [
       "      image_id     angle     speed\n",
       "0            1  0.578331  0.582704\n",
       "1            2  0.607713  0.949040\n",
       "2            3  0.621875  1.125068\n",
       "3            4  0.590089  0.730836\n",
       "4            5  0.608614  0.960247\n",
       "...        ...       ...       ...\n",
       "1015      1016  0.617811  1.074555\n",
       "1016      1017  0.589033  0.718940\n",
       "1017      1018  0.613803  1.024733\n",
       "1018      1019  0.602490  0.884124\n",
       "1019      1020  0.609686  0.973571\n",
       "\n",
       "[1020 rows x 3 columns]"
      ]
     },
     "execution_count": 121,
     "metadata": {},
     "output_type": "execute_result"
    }
   ],
   "source": [
    "import pandas as pd\n",
    "final_ordered = final_prd[final_prd[:, 0].argsort()]\n",
    "df = pd.DataFrame(final_ordered, columns = ['image_id','angle','speed'])\n",
    "df = df.astype({'image_id': 'int32'})\n",
    "df"
   ]
  },
  {
   "cell_type": "code",
   "execution_count": 122,
   "id": "6836d47a",
   "metadata": {},
   "outputs": [],
   "source": [
    "df.to_csv('submission.csv', index=False,)"
   ]
  },
  {
   "cell_type": "code",
   "execution_count": null,
   "id": "007e4de2",
   "metadata": {},
   "outputs": [],
   "source": []
  }
 ],
 "metadata": {
  "kernelspec": {
   "display_name": "mlis_car",
   "language": "python",
   "name": "mlis_car"
  },
  "language_info": {
   "codemirror_mode": {
    "name": "ipython",
    "version": 3
   },
   "file_extension": ".py",
   "mimetype": "text/x-python",
   "name": "python",
   "nbconvert_exporter": "python",
   "pygments_lexer": "ipython3",
   "version": "3.9.10"
  }
 },
 "nbformat": 4,
 "nbformat_minor": 5
}
