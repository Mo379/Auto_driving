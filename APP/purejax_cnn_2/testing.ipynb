{
 "cells": [
  {
   "cell_type": "code",
   "execution_count": 46,
   "id": "a09a7a92",
   "metadata": {},
   "outputs": [],
   "source": [
    "import wandb\n",
    "import pickle\n",
    "import time\n",
    "from src.datahandle import DataLoader\n",
    "from src.model_cnn import *\n",
    "#hyper\n",
    "split= 0.8\n",
    "batch_size = 32\n",
    "data_shape = 'original'\n",
    "\n",
    "directory = '../../extras/data/A_training_given/training_data/'\n",
    "training_folder = 'training_data'\n",
    "training_labels_file= 'training_norm.csv'"
   ]
  },
  {
   "cell_type": "code",
   "execution_count": 2,
   "id": "969e2c34",
   "metadata": {},
   "outputs": [],
   "source": [
    "training_object= DataLoader(\n",
    "        directory,\n",
    "        training_folder,\n",
    "        training_labels_file\n",
    "        )\n",
    "#train test split\n",
    "train,test = training_object.LoadModelData_info(\n",
    "        split = split, \n",
    "        batch_size = batch_size)\n"
   ]
  },
  {
   "cell_type": "code",
   "execution_count": 3,
   "id": "c2f3f8a2",
   "metadata": {},
   "outputs": [
    {
     "name": "stderr",
     "output_type": "stream",
     "text": [
      "WARNING:absl:No GPU/TPU found, falling back to CPU. (Set TF_CPP_MIN_LOG_LEVEL=0 and rerun for more info.)\n"
     ]
    }
   ],
   "source": [
    "X,Y = training_object.Load_batch(test[0], data_shape=data_shape)\n",
    "X = jnp.array(X, dtype=jnp.float32)\n",
    "Y = jnp.array(Y, dtype=jnp.float32)\n",
    "params = pickle.load(open('../../pkls/submission2_cnn.pkl', 'rb'))\n"
   ]
  },
  {
   "cell_type": "code",
   "execution_count": 11,
   "id": "6aed4033",
   "metadata": {},
   "outputs": [
    {
     "data": {
      "text/plain": [
       "(1, 240, 320, 3)"
      ]
     },
     "execution_count": 11,
     "metadata": {},
     "output_type": "execute_result"
    }
   ],
   "source": [
    "X[0:1].shape"
   ]
  },
  {
   "cell_type": "code",
   "execution_count": 9,
   "id": "867e333f",
   "metadata": {},
   "outputs": [],
   "source": [
    "_, apply_fun = my_combinator(\n",
    "    stax.Conv(5,(5,5), padding='SAME'),Relu_layer,\n",
    "    stax.AvgPool((3,3)),\n",
    "\n",
    "    stax.Conv(5,(5,5), padding='SAME'),Relu_layer,\n",
    "    stax.AvgPool((3,3)),\n",
    "\n",
    "    stax.Conv(5, (5,5),padding='SAME'),Relu_layer,\n",
    "    stax.MaxPool((2,2)),\n",
    "\n",
    "    my_Flatten(),\n",
    "    my_Dense(2)\n",
    ")\n",
    "def loss_fn(params, x, y):\n",
    "    predictions = apply_fun(params,x)\n",
    "    return (1/len(x))*jnp.sum((predictions-y)**2)"
   ]
  },
  {
   "cell_type": "code",
   "execution_count": 18,
   "id": "de6ad223",
   "metadata": {
    "scrolled": true
   },
   "outputs": [],
   "source": [
    "loss = loss_fn(params,X,Y)"
   ]
  },
  {
   "cell_type": "code",
   "execution_count": 19,
   "id": "ed9177e8",
   "metadata": {},
   "outputs": [
    {
     "data": {
      "text/plain": [
       "DeviceArray(0.03919352, dtype=float32)"
      ]
     },
     "execution_count": 19,
     "metadata": {},
     "output_type": "execute_result"
    }
   ],
   "source": [
    "loss"
   ]
  },
  {
   "cell_type": "code",
   "execution_count": null,
   "id": "25813a17",
   "metadata": {},
   "outputs": [],
   "source": []
  },
  {
   "cell_type": "code",
   "execution_count": 49,
   "id": "eccc6919",
   "metadata": {},
   "outputs": [],
   "source": [
    "from PIL import Image\n",
    "from numpy import asarray\n",
    "def Load_batch_quiz(batch, data_shape=(-1,1)):\n",
    "    X = []\n",
    "    Image_order = []\n",
    "    for instance in batch:\n",
    "        link = instance[0]\n",
    "        image = Image.open(link)\n",
    "        data = asarray(image)\n",
    "        if data.shape[2] == 4:\n",
    "            data = data[:,:,:-1]\n",
    "        if data_shape != 'original':\n",
    "            data = data.reshape(data_shape)\n",
    "        image_number = instance[1]\n",
    "        X.append(data)\n",
    "        Image_order.append(image_number)\n",
    "    X = jnp.array(X)/255\n",
    "    Image_order = np.array(Image_order)\n",
    "    return X,Image_order"
   ]
  },
  {
   "cell_type": "code",
   "execution_count": 50,
   "id": "92f92664",
   "metadata": {},
   "outputs": [],
   "source": [
    "quiz_directory = '../../extras/data/C_testing_given/test_data/'\n",
    "quiz_training_folder = 'test_data'\n",
    "quiz_object= DataLoader(\n",
    "        quiz_directory,\n",
    "        quiz_training_folder,\n",
    "        )\n",
    "quiz_train = quiz_object.LoadQuizData_info()"
   ]
  },
  {
   "cell_type": "code",
   "execution_count": 58,
   "id": "403e4cb7",
   "metadata": {},
   "outputs": [],
   "source": [
    "X,image_order = Load_batch_quiz(quiz_train, data_shape=data_shape)"
   ]
  },
  {
   "cell_type": "code",
   "execution_count": 59,
   "id": "d094a5cd",
   "metadata": {},
   "outputs": [
    {
     "data": {
      "text/plain": [
       "DeviceArray([[[0.7254902 , 0.7019608 , 0.7372549 ],\n",
       "              [0.6784314 , 0.654902  , 0.6901961 ],\n",
       "              [0.6313726 , 0.62352943, 0.6627451 ],\n",
       "              ...,\n",
       "              [0.18039216, 0.19215687, 0.23137255],\n",
       "              [0.16078432, 0.22352941, 0.21960784],\n",
       "              [0.15686275, 0.21960784, 0.21568628]],\n",
       "\n",
       "             [[0.7176471 , 0.70980394, 0.7137255 ],\n",
       "              [0.60784316, 0.6       , 0.6039216 ],\n",
       "              [0.6117647 , 0.61960787, 0.62352943],\n",
       "              ...,\n",
       "              [0.18039216, 0.1764706 , 0.2509804 ],\n",
       "              [0.18039216, 0.19215687, 0.21568628],\n",
       "              [0.18039216, 0.19215687, 0.21568628]],\n",
       "\n",
       "             [[0.7176471 , 0.7137255 , 0.7254902 ],\n",
       "              [0.5882353 , 0.5882353 , 0.59607846],\n",
       "              [0.61960787, 0.6       , 0.60784316],\n",
       "              ...,\n",
       "              [0.1882353 , 0.1764706 , 0.2509804 ],\n",
       "              [0.16470589, 0.20784314, 0.22745098],\n",
       "              [0.16078432, 0.2       , 0.22352941]],\n",
       "\n",
       "             ...,\n",
       "\n",
       "             [[0.68235296, 0.62352943, 0.60784316],\n",
       "              [0.68235296, 0.62352943, 0.60784316],\n",
       "              [0.6745098 , 0.627451  , 0.6431373 ],\n",
       "              ...,\n",
       "              [0.6745098 , 0.6431373 , 0.60784316],\n",
       "              [0.6862745 , 0.627451  , 0.6039216 ],\n",
       "              [0.6901961 , 0.63529414, 0.60784316]],\n",
       "\n",
       "             [[0.67058825, 0.627451  , 0.62352943],\n",
       "              [0.67058825, 0.627451  , 0.62352943],\n",
       "              [0.68235296, 0.6156863 , 0.6392157 ],\n",
       "              ...,\n",
       "              [0.69803923, 0.627451  , 0.6156863 ],\n",
       "              [0.69803923, 0.63529414, 0.63529414],\n",
       "              [0.6862745 , 0.62352943, 0.627451  ]],\n",
       "\n",
       "             [[0.65882355, 0.6313726 , 0.6392157 ],\n",
       "              [0.65882355, 0.6313726 , 0.6392157 ],\n",
       "              [0.6431373 , 0.6431373 , 0.6431373 ],\n",
       "              ...,\n",
       "              [0.70980394, 0.627451  , 0.63529414],\n",
       "              [0.6784314 , 0.6392157 , 0.6156863 ],\n",
       "              [0.67058825, 0.627451  , 0.60784316]]], dtype=float32)"
      ]
     },
     "execution_count": 59,
     "metadata": {},
     "output_type": "execute_result"
    }
   ],
   "source": [
    "X[0]"
   ]
  },
  {
   "cell_type": "code",
   "execution_count": 60,
   "id": "a3faec9d",
   "metadata": {},
   "outputs": [],
   "source": [
    "prds = np.array(apply_fun(params,X))"
   ]
  },
  {
   "cell_type": "code",
   "execution_count": 61,
   "id": "84fde603",
   "metadata": {},
   "outputs": [
    {
     "data": {
      "text/plain": [
       "((1020, 2), (1020,))"
      ]
     },
     "execution_count": 61,
     "metadata": {},
     "output_type": "execute_result"
    }
   ],
   "source": [
    "prds.shape,image_order.shape"
   ]
  },
  {
   "cell_type": "code",
   "execution_count": 62,
   "id": "2f657e58",
   "metadata": {},
   "outputs": [],
   "source": [
    "final_prd = np.column_stack((image_order,prds))"
   ]
  },
  {
   "cell_type": "code",
   "execution_count": 63,
   "id": "305b014f",
   "metadata": {},
   "outputs": [
    {
     "data": {
      "text/plain": [
       "(array([348, 412, 374, ..., 345, 351, 437]),\n",
       " array([[0.6690372 , 1.002062  ],\n",
       "        [0.49958917, 0.09506261],\n",
       "        [0.56665945, 0.18968415],\n",
       "        ...,\n",
       "        [0.31509638, 0.5284257 ],\n",
       "        [0.5840515 , 0.21010381],\n",
       "        [0.37664872, 0.7758928 ]], dtype=float32),\n",
       " array([[3.48000000e+02, 6.69037223e-01, 1.00206196e+00],\n",
       "        [4.12000000e+02, 4.99589175e-01, 9.50626060e-02],\n",
       "        [3.74000000e+02, 5.66659451e-01, 1.89684153e-01],\n",
       "        ...,\n",
       "        [3.45000000e+02, 3.15096378e-01, 5.28425694e-01],\n",
       "        [3.51000000e+02, 5.84051490e-01, 2.10103810e-01],\n",
       "        [4.37000000e+02, 3.76648724e-01, 7.75892794e-01]]))"
      ]
     },
     "execution_count": 63,
     "metadata": {},
     "output_type": "execute_result"
    }
   ],
   "source": [
    "image_order,prds,final_prd"
   ]
  },
  {
   "cell_type": "code",
   "execution_count": 64,
   "id": "808e7600",
   "metadata": {},
   "outputs": [
    {
     "data": {
      "text/html": [
       "<div>\n",
       "<style scoped>\n",
       "    .dataframe tbody tr th:only-of-type {\n",
       "        vertical-align: middle;\n",
       "    }\n",
       "\n",
       "    .dataframe tbody tr th {\n",
       "        vertical-align: top;\n",
       "    }\n",
       "\n",
       "    .dataframe thead th {\n",
       "        text-align: right;\n",
       "    }\n",
       "</style>\n",
       "<table border=\"1\" class=\"dataframe\">\n",
       "  <thead>\n",
       "    <tr style=\"text-align: right;\">\n",
       "      <th></th>\n",
       "      <th>image_id</th>\n",
       "      <th>angle</th>\n",
       "      <th>speed</th>\n",
       "    </tr>\n",
       "  </thead>\n",
       "  <tbody>\n",
       "    <tr>\n",
       "      <th>0</th>\n",
       "      <td>1</td>\n",
       "      <td>0.550736</td>\n",
       "      <td>0.452761</td>\n",
       "    </tr>\n",
       "    <tr>\n",
       "      <th>1</th>\n",
       "      <td>2</td>\n",
       "      <td>0.747539</td>\n",
       "      <td>1.000822</td>\n",
       "    </tr>\n",
       "    <tr>\n",
       "      <th>2</th>\n",
       "      <td>3</td>\n",
       "      <td>0.387601</td>\n",
       "      <td>0.750408</td>\n",
       "    </tr>\n",
       "    <tr>\n",
       "      <th>3</th>\n",
       "      <td>4</td>\n",
       "      <td>0.402067</td>\n",
       "      <td>0.827767</td>\n",
       "    </tr>\n",
       "    <tr>\n",
       "      <th>4</th>\n",
       "      <td>5</td>\n",
       "      <td>0.378613</td>\n",
       "      <td>0.724797</td>\n",
       "    </tr>\n",
       "    <tr>\n",
       "      <th>...</th>\n",
       "      <td>...</td>\n",
       "      <td>...</td>\n",
       "      <td>...</td>\n",
       "    </tr>\n",
       "    <tr>\n",
       "      <th>1015</th>\n",
       "      <td>1016</td>\n",
       "      <td>0.473031</td>\n",
       "      <td>1.050147</td>\n",
       "    </tr>\n",
       "    <tr>\n",
       "      <th>1016</th>\n",
       "      <td>1017</td>\n",
       "      <td>0.761413</td>\n",
       "      <td>0.530285</td>\n",
       "    </tr>\n",
       "    <tr>\n",
       "      <th>1017</th>\n",
       "      <td>1018</td>\n",
       "      <td>0.292220</td>\n",
       "      <td>0.998064</td>\n",
       "    </tr>\n",
       "    <tr>\n",
       "      <th>1018</th>\n",
       "      <td>1019</td>\n",
       "      <td>0.331269</td>\n",
       "      <td>0.441406</td>\n",
       "    </tr>\n",
       "    <tr>\n",
       "      <th>1019</th>\n",
       "      <td>1020</td>\n",
       "      <td>0.368524</td>\n",
       "      <td>0.729370</td>\n",
       "    </tr>\n",
       "  </tbody>\n",
       "</table>\n",
       "<p>1020 rows × 3 columns</p>\n",
       "</div>"
      ],
      "text/plain": [
       "      image_id     angle     speed\n",
       "0            1  0.550736  0.452761\n",
       "1            2  0.747539  1.000822\n",
       "2            3  0.387601  0.750408\n",
       "3            4  0.402067  0.827767\n",
       "4            5  0.378613  0.724797\n",
       "...        ...       ...       ...\n",
       "1015      1016  0.473031  1.050147\n",
       "1016      1017  0.761413  0.530285\n",
       "1017      1018  0.292220  0.998064\n",
       "1018      1019  0.331269  0.441406\n",
       "1019      1020  0.368524  0.729370\n",
       "\n",
       "[1020 rows x 3 columns]"
      ]
     },
     "execution_count": 64,
     "metadata": {},
     "output_type": "execute_result"
    }
   ],
   "source": [
    "import pandas as pd\n",
    "final_ordered = final_prd[final_prd[:, 0].argsort()]\n",
    "df = pd.DataFrame(final_ordered, columns = ['image_id','angle','speed'])\n",
    "df = df.astype({'image_id': 'int32'})\n",
    "df"
   ]
  },
  {
   "cell_type": "code",
   "execution_count": 65,
   "id": "6836d47a",
   "metadata": {},
   "outputs": [],
   "source": [
    "df.to_csv('submission.csv', index=False,)"
   ]
  },
  {
   "cell_type": "code",
   "execution_count": null,
   "id": "007e4de2",
   "metadata": {},
   "outputs": [],
   "source": []
  }
 ],
 "metadata": {
  "kernelspec": {
   "display_name": "mlis_car",
   "language": "python",
   "name": "mlis_car"
  },
  "language_info": {
   "codemirror_mode": {
    "name": "ipython",
    "version": 3
   },
   "file_extension": ".py",
   "mimetype": "text/x-python",
   "name": "python",
   "nbconvert_exporter": "python",
   "pygments_lexer": "ipython3",
   "version": "3.9.10"
  }
 },
 "nbformat": 4,
 "nbformat_minor": 5
}
