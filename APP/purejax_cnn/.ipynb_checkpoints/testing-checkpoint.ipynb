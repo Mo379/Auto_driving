{
 "cells": [
  {
   "cell_type": "code",
   "execution_count": 10,
   "id": "a09a7a92",
   "metadata": {},
   "outputs": [],
   "source": [
    "import wandb\n",
    "import pickle\n",
    "import time\n",
    "from src.datahandle import DataLoader\n",
    "from src.model_cnn import *\n",
    "#hyper\n",
    "split= 0.8\n",
    "batch_size = 32\n",
    "data_shape = (-1)\n",
    "\n",
    "directory = '../../extras/data/A_training_given/training_data/'\n",
    "training_folder = 'training_data'\n",
    "training_labels_file= 'training_norm.csv'"
   ]
  },
  {
   "cell_type": "code",
   "execution_count": 11,
   "id": "969e2c34",
   "metadata": {},
   "outputs": [],
   "source": [
    "training_object= DataLoader(\n",
    "        directory,\n",
    "        training_folder,\n",
    "        training_labels_file\n",
    "        )\n",
    "#train test split\n",
    "train,test = training_object.LoadModelData_info(\n",
    "        split = split, \n",
    "        batch_size = batch_size)\n"
   ]
  },
  {
   "cell_type": "code",
   "execution_count": null,
   "id": "c2f3f8a2",
   "metadata": {},
   "outputs": [
    {
     "name": "stderr",
     "output_type": "stream",
     "text": [
      "WARNING:absl:No GPU/TPU found, falling back to CPU. (Set TF_CPP_MIN_LOG_LEVEL=0 and rerun for more info.)\n"
     ]
    }
   ],
   "source": [
    "X,Y = training_object.Load_batch(test[0], data_shape=data_shape)\n",
    "X = jnp.array(X, dtype=jnp.float32)\n",
    "Y = jnp.array(Y, dtype=jnp.float32)\n",
    "params = pickle.load(open('../pkls/submission2_cnn.pkl', 'rb'))\n"
   ]
  },
  {
   "cell_type": "code",
   "execution_count": null,
   "id": "de6ad223",
   "metadata": {},
   "outputs": [],
   "source": [
    "loss = loss_fn(params,X,Y)"
   ]
  },
  {
   "cell_type": "code",
   "execution_count": null,
   "id": "ed9177e8",
   "metadata": {},
   "outputs": [],
   "source": [
    "loss"
   ]
  },
  {
   "cell_type": "code",
   "execution_count": null,
   "id": "25813a17",
   "metadata": {},
   "outputs": [],
   "source": []
  },
  {
   "cell_type": "code",
   "execution_count": null,
   "id": "eccc6919",
   "metadata": {},
   "outputs": [],
   "source": [
    "from PIL import Image\n",
    "from numpy import asarray\n",
    "def Load_batch_quiz(batch, data_shape=(-1,1)):\n",
    "    X = []\n",
    "    Image_order = []\n",
    "    for instance in batch:\n",
    "        link = instance[0]\n",
    "        image = Image.open(link)\n",
    "        data = asarray(image)\n",
    "        if data.shape[2] == 4:\n",
    "            data = data[:,:,:-1]\n",
    "        if data_shape != 'original':\n",
    "            data = data.reshape(data_shape)\n",
    "        image_number = instance[1]\n",
    "        X.append(data)\n",
    "        Image_order.append(image_number)\n",
    "    X = np.array(X)\n",
    "    Image_order = np.array(Image_order)\n",
    "    return X,Image_order"
   ]
  },
  {
   "cell_type": "code",
   "execution_count": null,
   "id": "92f92664",
   "metadata": {},
   "outputs": [],
   "source": [
    "quiz_directory = '/Users/M/Desktop/Uni_MLIS_car/extras/data/C_testing_given/test_data/'\n",
    "quiz_training_folder = 'test_data'\n",
    "quiz_object= DataLoader(\n",
    "        quiz_directory,\n",
    "        quiz_training_folder,\n",
    "        )\n",
    "quiz_train = quiz_object.LoadQuizData_info()"
   ]
  },
  {
   "cell_type": "code",
   "execution_count": null,
   "id": "403e4cb7",
   "metadata": {},
   "outputs": [],
   "source": [
    "X,image_order = Load_batch_quiz(quiz_train, data_shape=data_shape)"
   ]
  },
  {
   "cell_type": "code",
   "execution_count": null,
   "id": "a3faec9d",
   "metadata": {},
   "outputs": [],
   "source": [
    "prds = np.array(batch_forward(params,X))"
   ]
  },
  {
   "cell_type": "code",
   "execution_count": null,
   "id": "84fde603",
   "metadata": {},
   "outputs": [],
   "source": [
    "prds.shape,image_order.shape"
   ]
  },
  {
   "cell_type": "code",
   "execution_count": null,
   "id": "2f657e58",
   "metadata": {},
   "outputs": [],
   "source": [
    "final_prd = np.column_stack((image_order,prds))"
   ]
  },
  {
   "cell_type": "code",
   "execution_count": null,
   "id": "305b014f",
   "metadata": {},
   "outputs": [],
   "source": [
    "image_order,prds,final_prd"
   ]
  },
  {
   "cell_type": "code",
   "execution_count": null,
   "id": "808e7600",
   "metadata": {},
   "outputs": [],
   "source": [
    "import pandas as pd\n",
    "final_ordered = final_prd[final_prd[:, 0].argsort()]\n",
    "df = pd.DataFrame(final_ordered, columns = ['image_id','angle','speed'])\n",
    "df = df.astype({'image_id': 'int32'})\n",
    "df"
   ]
  },
  {
   "cell_type": "code",
   "execution_count": null,
   "id": "6836d47a",
   "metadata": {},
   "outputs": [],
   "source": [
    "df.to_csv('submission.csv', index=False,)"
   ]
  },
  {
   "cell_type": "code",
   "execution_count": null,
   "id": "007e4de2",
   "metadata": {},
   "outputs": [],
   "source": []
  }
 ],
 "metadata": {
  "kernelspec": {
   "display_name": "mlis_car",
   "language": "python",
   "name": "mlis_car"
  },
  "language_info": {
   "codemirror_mode": {
    "name": "ipython",
    "version": 3
   },
   "file_extension": ".py",
   "mimetype": "text/x-python",
   "name": "python",
   "nbconvert_exporter": "python",
   "pygments_lexer": "ipython3",
   "version": "3.9.10"
  }
 },
 "nbformat": 4,
 "nbformat_minor": 5
}
